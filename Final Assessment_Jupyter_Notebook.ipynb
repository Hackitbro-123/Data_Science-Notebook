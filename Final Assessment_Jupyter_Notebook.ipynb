{
 "cells": [
  {
   "cell_type": "markdown",
   "metadata": {},
   "source": [
    "<center>\n",
    "    <img src=\"https://cf-courses-data.s3.us.cloud-object-storage.appdomain.cloud/IBMDeveloperSkillsNetwork-DS0105EN-SkillsNetwork/labs/Module2/images/SN_web_lightmode.png\" width=\"300\" alt=\"cognitiveclass.ai logo\">\n",
    "</center>\n"
   ]
  },
  {
   "cell_type": "markdown",
   "metadata": {},
   "source": [
    "#### Add your code below following the instructions given in the course\n"
   ]
  },
  {
   "cell_type": "markdown",
   "metadata": {},
   "source": [
    "# Exercise 2:- \"Tools for Data Science\""
   ]
  },
  {
   "cell_type": "markdown",
   "metadata": {},
   "source": [
    "## Exercise 3 - Introduction to Data Science Tools\n",
    "\n",
    "Data science relies on a variety of tools for data processing, analysis, visualization, and machine learning. Below are key categories and commonly used tools:\n",
    "\n",
    "- **Programming Languages**: Python (NumPy, Pandas, Scikit-learn), R  \n",
    "- **Data Manipulation**: Pandas, SQL, Dask  \n",
    "- **Visualization**: Matplotlib, Seaborn, Plotly  \n",
    "- **Machine Learning**: Scikit-learn, TensorFlow, PyTorch  \n",
    "- **Big Data & Cloud**: Hadoop, Spark, Google BigQuery  \n",
    "- **Version Control & Deployment**: Git, Docker, MLflow  \n",
    "\n",
    "Each tool has a specific role, making data science workflows efficient and scalable.\n"
   ]
  },
  {
   "cell_type": "markdown",
   "metadata": {},
   "source": [
    "## Exercise 4:- Data Science Languages\n",
    " 1. Python\n",
    " 2. R\n",
    " 3. Scala\n",
    " 4. Java\n",
    " 5. Julia\n",
    " 6. SQL"
   ]
  },
  {
   "cell_type": "markdown",
   "metadata": {},
   "source": [
    "## Exercise 5:- Data Science Libraries\n",
    "\n",
    "### 1. Scientific Computing Libraries in Python\n",
    "   - **Pandas:** Used for Data Cleaning, Data Manipulation, and Analysis  \n",
    "   - **NumPy:** Used for numerical computations  \n",
    "   - **SciPy:** Used for scientific computing  \n",
    "\n",
    "### 2. Visualization Libraries\n",
    "   - **Matplotlib**\n",
    "   - **Seaborn**\n",
    "   - **Plotly**\n",
    "\n",
    "### 3. High-level Machine Learning & Deep Learning Libraries\n",
    "   - **Scikit-learn**\n",
    "   - **TensorFlow**\n",
    "   - **Keras**\n",
    "   - **PyTorch**\n",
    "\n",
    "### 4. Libraries Used in Other Languages\n",
    "   - **R: ggplot2, dplyr, caret**\n",
    "   - **Julia: Flux, MLJ**\n",
    "   - **Scala: Spark MLlib**\n"
   ]
  },
  {
   "cell_type": "markdown",
   "metadata": {},
   "source": [
    "## Exercise 6:- Data Science Tools\n",
    "\n",
    "Below is a table of popular Data Science tools:\n",
    "\n",
    "| Tool            | Category                     | Description |\n",
    "|----------------|----------------------------|-------------|\n",
    "| Jupyter Notebook | Interactive Computing | Used for writing and running code, visualizations, and documentation. |\n",
    "| RStudio        | IDE for R                 | A popular development environment for R programming. |\n",
    "| Apache Spark   | Big Data Processing       | A distributed computing system for big data analysis. |\n",
    "| TensorFlow     | Machine Learning          | A deep learning framework for AI and ML applications. |\n",
    "| Tableau        | Data Visualization        | A powerful tool for creating interactive data visualizations. |\n",
    "\n"
   ]
  },
  {
   "cell_type": "markdown",
   "metadata": {},
   "source": [
    "## Exercise 7:- Arithmetic Expressions in Python\n",
    "\n",
    "Arithmetic expressions are used to perform mathematical operations such as addition, subtraction, multiplication, and division. Below are some common arithmetic operations:\n",
    "\n",
    "| Operation | Symbol | Example | Result |\n",
    "|-----------|--------|---------|--------|\n",
    "| Addition | `+` | `5 + 3` | `8` |\n",
    "| Subtraction | `-` | `10 - 4` | `6` |\n",
    "| Multiplication | `*` | `6 * 2` | `12` |\n",
    "| Division | `/` | `9 / 3` | `3.0` |\n",
    "| Floor Division | `//` | `10 // 3` | `3` |\n",
    "| Modulus | `%` | `10 % 3` | `1` |\n",
    "| Exponentiation | `**` | `2 ** 3` | `8` |\n",
    "\n",
    "These operations are fundamental in Python programming and are widely used in Data Science and Machine Learning.\n"
   ]
  },
  {
   "cell_type": "markdown",
   "metadata": {},
   "source": [
    "## Exercise 8 :- Multiplication and Addition Example"
   ]
  },
  {
   "cell_type": "code",
   "execution_count": 1,
   "metadata": {},
   "outputs": [
    {
     "name": "stdout",
     "output_type": "stream",
     "text": [
      "Multiplication Result: 15\n",
      "Addition Result: 8\n"
     ]
    }
   ],
   "source": [
    "# Multiplication and Addition Example\n",
    "num1 = 5\n",
    "num2 = 3\n",
    "\n",
    "multiplication_result = num1 * num2\n",
    "addition_result = num1 + num2\n",
    "\n",
    "print(\"Multiplication Result:\", multiplication_result)\n",
    "print(\"Addition Result:\", addition_result)\n"
   ]
  },
  {
   "cell_type": "markdown",
   "metadata": {},
   "source": [
    "## Exercise 9:- Convert minutes to hours"
   ]
  },
  {
   "cell_type": "code",
   "execution_count": 5,
   "metadata": {},
   "outputs": [
    {
     "name": "stdin",
     "output_type": "stream",
     "text": [
      "Enter the number of minutes to convert into hours: 150\n"
     ]
    },
    {
     "name": "stdout",
     "output_type": "stream",
     "text": [
      "150 minutes is equal to 2.50 hours\n"
     ]
    }
   ],
   "source": [
    "# Convert minutes to hours\n",
    "minutes = int(input(\"Enter the number of minutes to convert into hours:\")) # Example input\n",
    "\n",
    "hours = minutes / 60  # Conversion formula\n",
    "\n",
    "print(f\"{minutes} minutes is equal to {hours:.2f} hours\")\n"
   ]
  },
  {
   "cell_type": "markdown",
   "metadata": {},
   "source": [
    "## Exercise 10:- Objectives\n",
    "\n",
    "In this notebook, we will cover the following objectives:\n",
    "\n",
    "- Understand basic arithmetic operations in Python.  \n",
    "- Learn how to convert minutes to hours using Python.  \n",
    "- Explore data science tools and libraries.  \n",
    "- Practice Markdown formatting in Jupyter Notebook.  \n",
    "- Execute Python code cells for mathematical operations.  \n"
   ]
  },
  {
   "cell_type": "markdown",
   "metadata": {},
   "source": [
    "## Exercise 11:- Markdown cell to indicate the Author’s name"
   ]
  },
  {
   "cell_type": "markdown",
   "metadata": {},
   "source": [
    "## Author  \n",
    "\n",
    "**SHREEJEET P TARALE**  \n"
   ]
  },
  {
   "cell_type": "code",
   "execution_count": null,
   "metadata": {},
   "outputs": [],
   "source": []
  },
  {
   "cell_type": "code",
   "execution_count": null,
   "metadata": {},
   "outputs": [],
   "source": []
  },
  {
   "cell_type": "code",
   "execution_count": null,
   "metadata": {},
   "outputs": [],
   "source": []
  }
 ],
 "metadata": {
  "kernelspec": {
   "display_name": "Python 3 (ipykernel)",
   "language": "python",
   "name": "python3"
  },
  "language_info": {
   "codemirror_mode": {
    "name": "ipython",
    "version": 3
   },
   "file_extension": ".py",
   "mimetype": "text/x-python",
   "name": "python",
   "nbconvert_exporter": "python",
   "pygments_lexer": "ipython3",
   "version": "3.12.8"
  }
 },
 "nbformat": 4,
 "nbformat_minor": 4
}
